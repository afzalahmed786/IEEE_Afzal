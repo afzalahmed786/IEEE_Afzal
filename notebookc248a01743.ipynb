{
 "cells": [
  {
   "cell_type": "code",
   "execution_count": 1,
   "id": "ab534bf5",
   "metadata": {
    "_cell_guid": "b1076dfc-b9ad-4769-8c92-a6c4dae69d19",
    "_uuid": "8f2839f25d086af736a60e9eeb907d3b93b6e0e5",
    "execution": {
     "iopub.execute_input": "2023-06-07T17:20:52.428846Z",
     "iopub.status.busy": "2023-06-07T17:20:52.428150Z",
     "iopub.status.idle": "2023-06-07T17:28:08.199493Z",
     "shell.execute_reply": "2023-06-07T17:28:08.198585Z"
    },
    "papermill": {
     "duration": 435.777637,
     "end_time": "2023-06-07T17:28:08.201953",
     "exception": false,
     "start_time": "2023-06-07T17:20:52.424316",
     "status": "completed"
    },
    "tags": []
   },
   "outputs": [
    {
     "name": "stderr",
     "output_type": "stream",
     "text": [
      "/opt/conda/lib/python3.10/site-packages/tensorflow_io/python/ops/__init__.py:98: UserWarning: unable to load libtensorflow_io_plugins.so: unable to open file: libtensorflow_io_plugins.so, from paths: ['/opt/conda/lib/python3.10/site-packages/tensorflow_io/python/ops/libtensorflow_io_plugins.so']\n",
      "caused by: ['/opt/conda/lib/python3.10/site-packages/tensorflow_io/python/ops/libtensorflow_io_plugins.so: undefined symbol: _ZN3tsl6StatusC1EN10tensorflow5error4CodeESt17basic_string_viewIcSt11char_traitsIcEENS_14SourceLocationE']\n",
      "  warnings.warn(f\"unable to load libtensorflow_io_plugins.so: {e}\")\n",
      "/opt/conda/lib/python3.10/site-packages/tensorflow_io/python/ops/__init__.py:104: UserWarning: file system plugins are not loaded: unable to open file: libtensorflow_io.so, from paths: ['/opt/conda/lib/python3.10/site-packages/tensorflow_io/python/ops/libtensorflow_io.so']\n",
      "caused by: ['/opt/conda/lib/python3.10/site-packages/tensorflow_io/python/ops/libtensorflow_io.so: undefined symbol: _ZTVN10tensorflow13GcsFileSystemE']\n",
      "  warnings.warn(f\"file system plugins are not loaded: {e}\")\n"
     ]
    },
    {
     "name": "stdout",
     "output_type": "stream",
     "text": [
      "Epoch 1/5\n",
      "352/352 [==============================] - 71s 197ms/step - loss: 0.4465 - accuracy: 0.8665 - val_loss: 0.3971 - val_accuracy: 0.9243\n",
      "Epoch 2/5\n",
      "352/352 [==============================] - 67s 192ms/step - loss: 0.0788 - accuracy: 0.9804 - val_loss: 0.0815 - val_accuracy: 0.9763\n",
      "Epoch 3/5\n",
      "352/352 [==============================] - 68s 194ms/step - loss: 0.0386 - accuracy: 0.9904 - val_loss: 0.0585 - val_accuracy: 0.9829\n",
      "Epoch 4/5\n",
      "352/352 [==============================] - 68s 193ms/step - loss: 0.0395 - accuracy: 0.9870 - val_loss: 0.3340 - val_accuracy: 0.9131\n",
      "Epoch 5/5\n",
      "352/352 [==============================] - 68s 193ms/step - loss: 0.0190 - accuracy: 0.9955 - val_loss: 0.0312 - val_accuracy: 0.9920\n",
      "118/118 [==============================] - 5s 44ms/step - loss: 0.0312 - accuracy: 0.9920\n",
      "0.9919999837875366\n"
     ]
    }
   ],
   "source": [
    "import numpy as np \n",
    "import os \n",
    "import pandas as pd \n",
    "import cv2\n",
    "import tensorflow as tf\n",
    "import matplotlib.pyplot as plt\n",
    "from sklearn.model_selection import train_test_split\n",
    "  \n",
    "a = pd.read_csv('/kaggle/input/chinese-mnist/chinese_mnist.csv')\n",
    "n = a[['suite_id', 'sample_id', 'code']].values\n",
    "img = [cv2.imread(f\"/kaggle/input/chinese-mnist/data/data/input_{i}_{j}_{k}.jpg\") for i, j, k in n]\n",
    "lbl = [ [x - 1] for x in a['code'].values ]\n",
    "img = np.array(img)[:,:,:,0]\n",
    "lbl = np.array(lbl)\n",
    "img = img.reshape(15000,64,64,1)\n",
    "img = img.astype(\"float32\")\n",
    "img /= 255\n",
    "img_train, img_test, lbl_train, lbl_test = train_test_split(img, lbl)\n",
    "\n",
    "\n",
    "model = tf.keras.models.Sequential()\n",
    "model.add(tf.keras.layers.Conv2D(64, 3, activation='relu', input_shape=(64, 64, 1)))\n",
    "model.add(tf.keras.layers.MaxPooling2D(2, 2))\n",
    "model.add(tf.keras.layers.Conv2D(64, 3, activation='relu'))\n",
    "model.add(tf.keras.layers.MaxPooling2D(2, 2))\n",
    "model.add(tf.keras.layers.Conv2D(128, 3, activation='relu'))\n",
    "model.add(tf.keras.layers.MaxPooling2D(2, 2))\n",
    "model.add(tf.keras.layers.Flatten())\n",
    "model.add(tf.keras.layers.Dense(256, activation='relu'))\n",
    "model.add(tf.keras.layers.BatchNormalization())\n",
    "model.add(tf.keras.layers.Dense(15))\n",
    "\n",
    "model.compile(optimizer='adam',loss=tf.keras.losses.SparseCategoricalCrossentropy(from_logits=True),metrics=['accuracy'])\n",
    "eval = model.fit(img_train,  lbl_train, epochs=5,validation_data=(img_test, lbl_test))\n",
    "loss, accuracy = model.evaluate(img_test,lbl_test)\n",
    "print(accuracy)\n",
    "\n"
   ]
  }
 ],
 "metadata": {
  "kernelspec": {
   "display_name": "Python 3",
   "language": "python",
   "name": "python3"
  },
  "language_info": {
   "codemirror_mode": {
    "name": "ipython",
    "version": 3
   },
   "file_extension": ".py",
   "mimetype": "text/x-python",
   "name": "python",
   "nbconvert_exporter": "python",
   "pygments_lexer": "ipython3",
   "version": "3.10.10"
  },
  "papermill": {
   "default_parameters": {},
   "duration": 452.027407,
   "end_time": "2023-06-07T17:28:11.500931",
   "environment_variables": {},
   "exception": null,
   "input_path": "__notebook__.ipynb",
   "output_path": "__notebook__.ipynb",
   "parameters": {},
   "start_time": "2023-06-07T17:20:39.473524",
   "version": "2.4.0"
  }
 },
 "nbformat": 4,
 "nbformat_minor": 5
}
